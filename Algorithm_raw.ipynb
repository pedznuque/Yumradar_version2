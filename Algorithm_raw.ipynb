{
 "cells": [
  {
   "cell_type": "code",
   "execution_count": 30,
   "metadata": {},
   "outputs": [],
   "source": [
    "import pandas as pd\n",
    "import numpy as np\n",
    "from scipy.sparse.linalg import norm\n",
    "from scipy.sparse import csr_matrix"
   ]
  },
  {
   "cell_type": "code",
   "execution_count": 31,
   "metadata": {},
   "outputs": [],
   "source": [
    "\n",
    "# Load the restaurants data into a DataFrame\n",
    "restaurants_df = pd.read_csv(r'C:\\Users\\Gerald\\Desktop\\system\\datasets\\DATASET-ALGO.csv')\n",
    "\n",
    "\n"
   ]
  },
  {
   "cell_type": "code",
   "execution_count": 32,
   "metadata": {},
   "outputs": [],
   "source": [
    "\n",
    "# Convert the rows into a single column in order to create a keywords\n",
    "restaurants_df['keywords'] = restaurants_df['category'] + ' ' + restaurants_df['Resto_name']+ ' ' + restaurants_df['location'] + ' ' + restaurants_df['Dishes_key']\n"
   ]
  },
  {
   "cell_type": "code",
   "execution_count": 33,
   "metadata": {},
   "outputs": [
    {
     "name": "stdout",
     "output_type": "stream",
     "text": [
      "['Japanese Ramen Happon Ramen House Quezon City Tonkotsu Ramen Miso Ramen Shoyu Ramen Spicy Ramen Tsukemen Chashu Rice Bowl Gyoza Karaage Tamago Kakuni', 'Japanese Ramen Ramen Nagi Taguig City Original King Ramen Black King Ramen Red King Ramen Green King Ramen Limited King Ramen Gyoza Karaage Tamago Chashu Rice Bowl Matcha Milk Tea', 'Japanese Ramen Hokkaido Ramen Santouka Tagaytay City Shio Ramen Shoyu Ramen Miso Ramen Spicy Ramen Tonkotsu Ramen Katsu Curry Rice Gyoza Chashu Don Soft-Shell Crab Roll Matcha Ice Cream', 'Japanese Ramen Ikkoryu Fukuoka Ramen Makati City Tonkotsu Ramen Miso Ramen Shoyu Ramen Karaka-Men Black Garlic Ramen Gyoza Chashu Don Karaage Takoyaki Matcha Ice Cream', 'Japanese Ramen Mitsuyado Sei-Men Taguig City Tonkotsu Ramen Shoyu Ramen Miso Ramen Tsukemen Chashu Rice Bowl Gyoza Karaage Tamago Kakuni Seaweed Salad', 'Korean Korean BBQ Samgyeopsal House by 25th Turning Point Manila Samgyeopsal Galbi Yangnyeom Chicken Kimchi Jjigae Bossam Jeyuk Bokkeum Bibim Guksu Budae Jjigae Dak Galbi Mul Naengmyeon', 'Korean Korean BBQ Samgyupsalamat Manila Samgyupsal Woo Samgyup Yangnyeom Samgyeopsal Moksal Galbi Dakgalbi Kimchi Jjigae Haemul Pajeon Gyeran Jjim Bibim Guksu', 'Korean Korean BBQ Seoul Train Korean Barbecue Quezon City Samgyeopsal Bulgogi Galbi Gui Japchae Kimchi Fried Rice Bibimbap Kimbap Tteokbokki Mandu Sundubu Jjigae', 'Korean Korean BBQ Sibyullee Pasig City Korean BBQ Samgyeopsal Galbi Bulgogi Japchae Kimchi Fried Rice Bibimbap Tteokbokki Korean Fried Chicken Bingsu', 'Korean Korean BBQ Namu Korean Restaurant and Grill ParaÃ±aque City Galbi Samgyeopsal Bulgogi Dakgalbi Jeyuk Bokkeum Kimchi-jjigae Doenjang-jjigae Bibimbap Sundubu-jjigae Japchae', 'Chinese Asian Century Seafood Restaurant - Century Park Hotel Manila Sweet and Sour Fish Yang Chow Fried Rice Steamed Lapu-Lapu Salt and Pepper Squid Sizzling Sisig Beef with Broccoli Pancit Canton Fried Chicken Lechon Macau Shrimp in Garlic Sauce', 'Chinese Asian Han Pao Tea House Mandaluyong City Xiao Long Bao Pork Dumplings Steamed Siopao Chicken Feet Radish Cake Spicy Wontons Beef Noodles Egg Tarts Milk Tea Red Bean Bun', \"Chinese Asian Little Store on the Hill San Juan City Sweet and Sour Pork Kung Pao Chicken Fried Rice Beef with Broccoli Mapo Tofu Dim Sum Platter General Tso's Chicken Egg Rolls Wonton Soup Szechuan Beef\", 'Chinese Asian North Park Noodles Muntinlupa City Sweet and Sour Pork Yang Chow Fried Rice Beef Hofan Salt and Pepper Squid Lemon Chicken Honey Walnut Shrimp Peking Duck Dim Sum Platter Egg Drop Soup Mango Pudding', \"Chinese Asian Chinatown's Best Food Quezon City Pork Siomai Beef Noodles Yang Chow Fried Rice Lemon Chicken Salt and Pepper Squid Stir-fried Vegetables Sweet and Sour Pork Steamed Fish Kung Pao Chicken Braised Beef with Oyster Sauce\", \"American Steak Blake's Wings & Steaks Quezon City Buffalo Wings Ribeye Steak T-Bone Steak Garlic Parmesan Wings BBQ Ribs Porterhouse Steak Chicken Caesar Salad Loaded Fries Onion Rings Chocolate Sundae\", \"American Steak Elbert's Steak Room Makati City American Steak Ribeye Steak Filet Mignon T-Bone Steak Porterhouse Steak New York Strip Steak Prime Rib Beef Tenderloin Surf and Turf Tomahawk Steak\", \"American Steak Tender Bob's Mandaluyong City Steak Baby Back Ribs Grilled Chicken Pork Chops Caesar Salad Mashed Potatoes Corn on the Cob Onion Rings Iced Tea Chocolate Cake\", 'American Steak Red Baron Ribs & Steaks Quezon City US Angus Ribeye Steak Baby Back Ribs T-Bone Steak Ribeye Salpicao Porterhouse Steak BBQ Pork Ribs Grilled Salmon Beef Salpicao Grilled Chicken Fish and Chips', 'American Steak Tipsy Pig Gastropub Pasig City Ribeye Steak Pork Belly Chicken Wings Baby Back Ribs Fish and Chips Burgers Truffle Mac and Cheese Sweet Potato Fries Cheesecake Chocolate Lava Cake', \"Seafood Filipino Aling Tonya's Pasay City Butter Garlic Shrimp Chili Crab Crispy Pata Sinigang na Hipon Grilled Tilapia Adobong Pusit Kare-Kare Gising-Gising Ginataang Alimasag Halo-Halo\", \"Seafood Filipino Blackbeard's Seafood Island Manila Sinigang na Hipon Grilled Liempo Crispy Pata Kare-Kare Garlic Butter Shrimp Bicol Express Adobong Pusit Crispy Tilapia Seafood Boil Sizzling Sisig\", 'Seafood Filipino Marina Pasay City Buttered Garlic Shrimp Grilled Squid Steamed Fish Sinigang na Hipon Baked Mussels Adobong Pusit Fish Escabeche Crispy Calamari Kare-Kare Halo-Halo', 'Seafood Filipino The Red Crab Pasay City Chili Crab Garlic Butter Crab Salted Egg Crab Black Pepper Crab Buttered Shrimp Grilled Squid Steamed Fish Sinigang na Hipon Adobong Pusit Kare-Kare', 'Seafood Filipino Dampa sa Paseo Malabon City Garlic Butter Shrimp Grilled Squid Crispy Tilapia Sinigang na Hipon Lechon Kawali Buttered Crab Seafood Kare-Kare Grilled Tuna Belly Baked Tahong Steamed Shrimp', \"Italian Elan's Cafe - Greenhills Elan Hotel San Juan City Italian Pasta Pizza Risotto Panini Lasagna Bruschetta Tiramisu Gelato Cannoli\", \"Italian Don Henrico's Pasay City Margherita Pizza Pepperoni Pizza Four Cheese Pizza Quattro Stagioni Pizza Spaghetti Carbonara Fettuccine Alfredo Chicken Parmigiana Tiramisu Cheesecake Gelato\", 'Italian The Old Spaghetti House Quezon City Spaghetti Bolognese Carbonara Shrimp Aglio Olio Lasagna Seafood Marinara Pesto Pasta Chicken Alfredo Penne Arrabiata Margherita Pizza Tiramisu', 'Italian Diverso Pizzeria ParaÃ±aque City Margherita Pizza Pepperoni Pizza Quattro Formaggi Pizza Prosciutto Pizza Hawaiian Pizza Vegetarian Pizza BBQ Chicken Pizza Truffle Mushroom Pizza Capricciosa Pizza Diavola Pizza', 'Italian Green Tomato Makati City Margherita Pizza Pepperoni Pizza Quattro Formaggi Pizza Prosciutto and Arugula Pizza Mushroom and Truffle Pizza Caprese Salad Pesto Pasta Garlic Bread Tiramisu Cannoli']\n"
     ]
    }
   ],
   "source": [
    "\n",
    "\n",
    "\n",
    "# Convert the keywords into 1d array \n",
    "keywords = restaurants_df['keywords'].astype(str).tolist()\n",
    "\n",
    "\n",
    "# Remove all commas from the keywords list\n",
    "keywords = [keyword.replace(',', '') for keyword in keywords]\n",
    "\n",
    "\n",
    "\n",
    "print(keywords)\n"
   ]
  },
  {
   "cell_type": "code",
   "execution_count": 34,
   "metadata": {},
   "outputs": [
    {
     "name": "stdout",
     "output_type": "stream",
     "text": [
      "{'Japanese': 5, 'Ramen': 30, 'Happon': 1, 'House': 4, 'Quezon': 6, 'City': 26, 'Tonkotsu': 4, 'Miso': 4, 'Shoyu': 4, 'Spicy': 3, 'Tsukemen': 2, 'Chashu': 5, 'Rice': 10, 'Bowl': 3, 'Gyoza': 5, 'Karaage': 4, 'Tamago': 3, 'Kakuni': 2, 'Nagi': 1, 'Taguig': 2, 'Original': 1, 'King': 5, 'Black': 3, 'Red': 4, 'Green': 2, 'Limited': 1, 'Matcha': 3, 'Milk': 2, 'Tea': 4, 'Hokkaido': 1, 'Santouka': 1, 'Tagaytay': 1, 'Shio': 1, 'Katsu': 1, 'Curry': 1, 'Don': 3, 'Soft-Shell': 1, 'Crab': 8, 'Roll': 1, 'Ice': 2, 'Cream': 2, 'Ikkoryu': 1, 'Fukuoka': 1, 'Makati': 3, 'Karaka-Men': 1, 'Garlic': 9, 'Takoyaki': 1, 'Mitsuyado': 1, 'Sei-Men': 1, 'Seaweed': 1, 'Salad': 4, 'Korean': 14, 'BBQ': 9, 'Samgyeopsal': 6, 'by': 1, '25th': 1, 'Turning': 1, 'Point': 1, 'Manila': 4, 'Galbi': 6, 'Yangnyeom': 2, 'Chicken': 16, 'Kimchi': 4, 'Jjigae': 4, 'Bossam': 1, 'Jeyuk': 2, 'Bokkeum': 2, 'Bibim': 2, 'Guksu': 2, 'Budae': 1, 'Dak': 1, 'Mul': 1, 'Naengmyeon': 1, 'Samgyupsalamat': 1, 'Samgyupsal': 1, 'Woo': 1, 'Samgyup': 1, 'Moksal': 1, 'Dakgalbi': 2, 'Haemul': 1, 'Pajeon': 1, 'Gyeran': 1, 'Jjim': 1, 'Seoul': 1, 'Train': 1, 'Barbecue': 1, 'Bulgogi': 3, 'Gui': 1, 'Japchae': 3, 'Fried': 8, 'Bibimbap': 3, 'Kimbap': 1, 'Tteokbokki': 2, 'Mandu': 1, 'Sundubu': 1, 'Sibyullee': 1, 'Pasig': 2, 'Bingsu': 1, 'Namu': 1, 'Restaurant': 2, 'and': 14, 'Grill': 1, 'ParaÃ±aque': 2, 'Kimchi-jjigae': 1, 'Doenjang-jjigae': 1, 'Sundubu-jjigae': 1, 'Chinese': 5, 'Asian': 5, 'Century': 2, 'Seafood': 10, '-': 2, 'Park': 2, 'Hotel': 2, 'Sweet': 5, 'Sour': 4, 'Fish': 7, 'Yang': 3, 'Chow': 3, 'Steamed': 6, 'Lapu-Lapu': 1, 'Salt': 3, 'Pepper': 4, 'Squid': 6, 'Sizzling': 2, 'Sisig': 2, 'Beef': 9, 'with': 3, 'Broccoli': 2, 'Pancit': 1, 'Canton': 1, 'Lechon': 2, 'Macau': 1, 'Shrimp': 9, 'in': 1, 'Sauce': 2, 'Han': 1, 'Pao': 3, 'Mandaluyong': 2, 'Xiao': 1, 'Long': 1, 'Bao': 1, 'Pork': 8, 'Dumplings': 1, 'Siopao': 1, 'Feet': 1, 'Radish': 1, 'Cake': 3, 'Wontons': 1, 'Noodles': 3, 'Egg': 4, 'Tarts': 1, 'Bean': 1, 'Bun': 1, 'Little': 1, 'Store': 1, 'on': 2, 'the': 2, 'Hill': 1, 'San': 2, 'Juan': 2, 'Kung': 2, 'Mapo': 1, 'Tofu': 1, 'Dim': 2, 'Sum': 2, 'Platter': 2, 'General': 1, \"Tso's\": 1, 'Rolls': 1, 'Wonton': 1, 'Soup': 2, 'Szechuan': 1, 'North': 1, 'Muntinlupa': 1, 'Hofan': 1, 'Lemon': 2, 'Honey': 1, 'Walnut': 1, 'Peking': 1, 'Duck': 1, 'Drop': 1, 'Mango': 1, 'Pudding': 1, \"Chinatown's\": 1, 'Best': 1, 'Food': 1, 'Siomai': 1, 'Stir-fried': 1, 'Vegetables': 1, 'Braised': 1, 'Oyster': 1, 'American': 6, 'Steak': 20, \"Blake's\": 1, 'Wings': 4, '&': 2, 'Steaks': 2, 'Buffalo': 1, 'Ribeye': 5, 'T-Bone': 3, 'Parmesan': 1, 'Ribs': 6, 'Porterhouse': 3, 'Caesar': 2, 'Loaded': 1, 'Fries': 2, 'Onion': 2, 'Rings': 2, 'Chocolate': 3, 'Sundae': 1, \"Elbert's\": 1, 'Room': 1, 'Filet': 1, 'Mignon': 1, 'New': 1, 'York': 1, 'Strip': 1, 'Prime': 1, 'Rib': 1, 'Tenderloin': 1, 'Surf': 1, 'Turf': 1, 'Tomahawk': 1, 'Tender': 1, \"Bob's\": 1, 'Baby': 3, 'Back': 3, 'Grilled': 9, 'Chops': 1, 'Mashed': 1, 'Potatoes': 1, 'Corn': 1, 'Cob': 1, 'Iced': 1, 'Baron': 1, 'US': 1, 'Angus': 1, 'Salpicao': 2, 'Salmon': 1, 'Chips': 2, 'Tipsy': 1, 'Pig': 1, 'Gastropub': 1, 'Belly': 2, 'Burgers': 1, 'Truffle': 3, 'Mac': 1, 'Cheese': 2, 'Potato': 1, 'Cheesecake': 2, 'Lava': 1, 'Filipino': 5, 'Aling': 1, \"Tonya's\": 1, 'Pasay': 4, 'Butter': 4, 'Chili': 2, 'Crispy': 5, 'Pata': 2, 'Sinigang': 5, 'na': 5, 'Hipon': 5, 'Tilapia': 3, 'Adobong': 4, 'Pusit': 4, 'Kare-Kare': 5, 'Gising-Gising': 1, 'Ginataang': 1, 'Alimasag': 1, 'Halo-Halo': 2, \"Blackbeard's\": 1, 'Island': 1, 'Liempo': 1, 'Bicol': 1, 'Express': 1, 'Boil': 1, 'Marina': 1, 'Buttered': 3, 'Baked': 2, 'Mussels': 1, 'Escabeche': 1, 'Calamari': 1, 'The': 2, 'Salted': 1, 'Dampa': 1, 'sa': 1, 'Paseo': 1, 'Malabon': 1, 'Kawali': 1, 'Tuna': 1, 'Tahong': 1, 'Italian': 6, \"Elan's\": 1, 'Cafe': 1, 'Greenhills': 1, 'Elan': 1, 'Pasta': 3, 'Pizza': 21, 'Risotto': 1, 'Panini': 1, 'Lasagna': 2, 'Bruschetta': 1, 'Tiramisu': 4, 'Gelato': 2, 'Cannoli': 2, \"Henrico's\": 1, 'Margherita': 4, 'Pepperoni': 3, 'Four': 1, 'Quattro': 3, 'Stagioni': 1, 'Spaghetti': 3, 'Carbonara': 2, 'Fettuccine': 1, 'Alfredo': 2, 'Parmigiana': 1, 'Old': 1, 'Bolognese': 1, 'Aglio': 1, 'Olio': 1, 'Marinara': 1, 'Pesto': 2, 'Penne': 1, 'Arrabiata': 1, 'Diverso': 1, 'Pizzeria': 1, 'Formaggi': 2, 'Prosciutto': 2, 'Hawaiian': 1, 'Vegetarian': 1, 'Mushroom': 2, 'Capricciosa': 1, 'Diavola': 1, 'Tomato': 1, 'Arugula': 1, 'Caprese': 1, 'Bread': 1}\n"
     ]
    }
   ],
   "source": [
    "# Create a term frequency set container\n",
    "Term_Frequencies = {}\n",
    "\n",
    "\n",
    "# Tokenize and split the keywords\n",
    "for keyword in keywords:\n",
    "    split_Keywords = keyword.split()\n",
    "    \n",
    "    \n",
    "    \n",
    "    # Count the term frequencies\n",
    "    for split_Keyword in split_Keywords:\n",
    "        Term_Frequencies[split_Keyword] = Term_Frequencies.get(split_Keyword, 0) + 1\n",
    "        \n",
    "        \n",
    "\n",
    "       \n",
    "        \n",
    "        \n",
    "print(Term_Frequencies)"
   ]
  },
  {
   "cell_type": "code",
   "execution_count": 35,
   "metadata": {},
   "outputs": [
    {
     "name": "stdout",
     "output_type": "stream",
     "text": [
      "['Ramen', 'City', 'Pizza', 'Steak', 'Chicken', 'Korean', 'and', 'Rice', 'Seafood', 'Garlic', 'BBQ', 'Beef', 'Shrimp', 'Grilled', 'Crab', 'Fried', 'Pork', 'Fish', 'Quezon', 'Samgyeopsal', 'Galbi', 'Steamed', 'Squid', 'American', 'Ribs', 'Italian', 'Japanese', 'Chashu', 'Gyoza', 'King', 'Chinese', 'Asian', 'Sweet', 'Ribeye', 'Filipino', 'Crispy', 'Sinigang', 'na', 'Hipon', 'Kare-Kare', 'House', 'Tonkotsu', 'Miso', 'Shoyu', 'Karaage', 'Red', 'Tea', 'Salad', 'Manila', 'Kimchi', 'Jjigae', 'Sour', 'Pepper', 'Egg', 'Wings', 'Pasay', 'Butter', 'Adobong', 'Pusit', 'Tiramisu', 'Margherita', 'Spicy', 'Bowl', 'Tamago', 'Black', 'Matcha', 'Don', 'Makati', 'Bulgogi', 'Japchae', 'Bibimbap', 'Yang', 'Chow', 'Salt', 'with', 'Pao', 'Cake', 'Noodles', 'T-Bone', 'Porterhouse', 'Chocolate', 'Baby', 'Back', 'Truffle', 'Tilapia', 'Buttered', 'Pasta', 'Pepperoni', 'Quattro', 'Spaghetti', 'Tsukemen', 'Kakuni', 'Taguig', 'Green', 'Milk', 'Ice', 'Cream', 'Yangnyeom', 'Jeyuk', 'Bokkeum', 'Bibim', 'Guksu', 'Dakgalbi', 'Tteokbokki', 'Pasig', 'Restaurant', 'ParaÃ±aque', 'Century', '-', 'Park', 'Hotel', 'Sizzling', 'Sisig', 'Broccoli', 'Lechon', 'Sauce', 'Mandaluyong', 'on', 'the', 'San', 'Juan', 'Kung', 'Dim', 'Sum', 'Platter', 'Soup', 'Lemon', '&', 'Steaks', 'Caesar', 'Fries', 'Onion', 'Rings', 'Salpicao', 'Chips', 'Belly', 'Cheese', 'Cheesecake', 'Chili', 'Pata', 'Halo-Halo', 'Baked', 'The', 'Lasagna', 'Gelato', 'Cannoli', 'Carbonara', 'Alfredo', 'Pesto', 'Formaggi', 'Prosciutto', 'Mushroom', 'Happon', 'Nagi', 'Original', 'Limited', 'Hokkaido', 'Santouka', 'Tagaytay', 'Shio', 'Katsu', 'Curry', 'Soft-Shell', 'Roll', 'Ikkoryu', 'Fukuoka', 'Karaka-Men', 'Takoyaki', 'Mitsuyado', 'Sei-Men', 'Seaweed', 'by', '25th', 'Turning', 'Point', 'Bossam', 'Budae', 'Dak', 'Mul', 'Naengmyeon', 'Samgyupsalamat', 'Samgyupsal', 'Woo', 'Samgyup', 'Moksal', 'Haemul', 'Pajeon', 'Gyeran', 'Jjim', 'Seoul', 'Train', 'Barbecue', 'Gui', 'Kimbap', 'Mandu', 'Sundubu', 'Sibyullee', 'Bingsu', 'Namu', 'Grill', 'Kimchi-jjigae', 'Doenjang-jjigae', 'Sundubu-jjigae', 'Lapu-Lapu', 'Pancit', 'Canton', 'Macau', 'in', 'Han', 'Xiao', 'Long', 'Bao', 'Dumplings', 'Siopao', 'Feet', 'Radish', 'Wontons', 'Tarts', 'Bean', 'Bun', 'Little', 'Store', 'Hill', 'Mapo', 'Tofu', 'General', \"Tso's\", 'Rolls', 'Wonton', 'Szechuan', 'North', 'Muntinlupa', 'Hofan', 'Honey', 'Walnut', 'Peking', 'Duck', 'Drop', 'Mango', 'Pudding', \"Chinatown's\", 'Best', 'Food', 'Siomai', 'Stir-fried', 'Vegetables', 'Braised', 'Oyster', \"Blake's\", 'Buffalo', 'Parmesan', 'Loaded', 'Sundae', \"Elbert's\", 'Room', 'Filet', 'Mignon', 'New', 'York', 'Strip', 'Prime', 'Rib', 'Tenderloin', 'Surf', 'Turf', 'Tomahawk', 'Tender', \"Bob's\", 'Chops', 'Mashed', 'Potatoes', 'Corn', 'Cob', 'Iced', 'Baron', 'US', 'Angus', 'Salmon', 'Tipsy', 'Pig', 'Gastropub', 'Burgers', 'Mac', 'Potato', 'Lava', 'Aling', \"Tonya's\", 'Gising-Gising', 'Ginataang', 'Alimasag', \"Blackbeard's\", 'Island', 'Liempo', 'Bicol', 'Express', 'Boil', 'Marina', 'Mussels', 'Escabeche', 'Calamari', 'Salted', 'Dampa', 'sa', 'Paseo', 'Malabon', 'Kawali', 'Tuna', 'Tahong', \"Elan's\", 'Cafe', 'Greenhills', 'Elan', 'Risotto', 'Panini', 'Bruschetta', \"Henrico's\", 'Four', 'Stagioni', 'Fettuccine', 'Parmigiana', 'Old', 'Bolognese', 'Aglio', 'Olio', 'Marinara', 'Penne', 'Arrabiata', 'Diverso', 'Pizzeria', 'Hawaiian', 'Vegetarian', 'Capricciosa', 'Diavola', 'Tomato', 'Arugula', 'Caprese', 'Bread']\n"
     ]
    }
   ],
   "source": [
    "        \n",
    "\n",
    "# Create a vocabulary of unique words sorted by term frequency\n",
    "unique_keywords_set = sorted(Term_Frequencies, key=Term_Frequencies.get, reverse=True)\n",
    "\n",
    "print(unique_keywords_set)"
   ]
  },
  {
   "cell_type": "code",
   "execution_count": 36,
   "metadata": {},
   "outputs": [
    {
     "name": "stdout",
     "output_type": "stream",
     "text": [
      "{'Ramen': 0, 'City': 1, 'Pizza': 2, 'Steak': 3, 'Chicken': 4, 'Korean': 5, 'and': 6, 'Rice': 7, 'Seafood': 8, 'Garlic': 9, 'BBQ': 10, 'Beef': 11, 'Shrimp': 12, 'Grilled': 13, 'Crab': 14, 'Fried': 15, 'Pork': 16, 'Fish': 17, 'Quezon': 18, 'Samgyeopsal': 19, 'Galbi': 20, 'Steamed': 21, 'Squid': 22, 'American': 23, 'Ribs': 24, 'Italian': 25, 'Japanese': 26, 'Chashu': 27, 'Gyoza': 28, 'King': 29, 'Chinese': 30, 'Asian': 31, 'Sweet': 32, 'Ribeye': 33, 'Filipino': 34, 'Crispy': 35, 'Sinigang': 36, 'na': 37, 'Hipon': 38, 'Kare-Kare': 39, 'House': 40, 'Tonkotsu': 41, 'Miso': 42, 'Shoyu': 43, 'Karaage': 44, 'Red': 45, 'Tea': 46, 'Salad': 47, 'Manila': 48, 'Kimchi': 49, 'Jjigae': 50, 'Sour': 51, 'Pepper': 52, 'Egg': 53, 'Wings': 54, 'Pasay': 55, 'Butter': 56, 'Adobong': 57, 'Pusit': 58, 'Tiramisu': 59, 'Margherita': 60, 'Spicy': 61, 'Bowl': 62, 'Tamago': 63, 'Black': 64, 'Matcha': 65, 'Don': 66, 'Makati': 67, 'Bulgogi': 68, 'Japchae': 69, 'Bibimbap': 70, 'Yang': 71, 'Chow': 72, 'Salt': 73, 'with': 74, 'Pao': 75, 'Cake': 76, 'Noodles': 77, 'T-Bone': 78, 'Porterhouse': 79, 'Chocolate': 80, 'Baby': 81, 'Back': 82, 'Truffle': 83, 'Tilapia': 84, 'Buttered': 85, 'Pasta': 86, 'Pepperoni': 87, 'Quattro': 88, 'Spaghetti': 89, 'Tsukemen': 90, 'Kakuni': 91, 'Taguig': 92, 'Green': 93, 'Milk': 94, 'Ice': 95, 'Cream': 96, 'Yangnyeom': 97, 'Jeyuk': 98, 'Bokkeum': 99, 'Bibim': 100, 'Guksu': 101, 'Dakgalbi': 102, 'Tteokbokki': 103, 'Pasig': 104, 'Restaurant': 105, 'ParaÃ±aque': 106, 'Century': 107, '-': 108, 'Park': 109, 'Hotel': 110, 'Sizzling': 111, 'Sisig': 112, 'Broccoli': 113, 'Lechon': 114, 'Sauce': 115, 'Mandaluyong': 116, 'on': 117, 'the': 118, 'San': 119, 'Juan': 120, 'Kung': 121, 'Dim': 122, 'Sum': 123, 'Platter': 124, 'Soup': 125, 'Lemon': 126, '&': 127, 'Steaks': 128, 'Caesar': 129, 'Fries': 130, 'Onion': 131, 'Rings': 132, 'Salpicao': 133, 'Chips': 134, 'Belly': 135, 'Cheese': 136, 'Cheesecake': 137, 'Chili': 138, 'Pata': 139, 'Halo-Halo': 140, 'Baked': 141, 'The': 142, 'Lasagna': 143, 'Gelato': 144, 'Cannoli': 145, 'Carbonara': 146, 'Alfredo': 147, 'Pesto': 148, 'Formaggi': 149, 'Prosciutto': 150, 'Mushroom': 151, 'Happon': 152, 'Nagi': 153, 'Original': 154, 'Limited': 155, 'Hokkaido': 156, 'Santouka': 157, 'Tagaytay': 158, 'Shio': 159, 'Katsu': 160, 'Curry': 161, 'Soft-Shell': 162, 'Roll': 163, 'Ikkoryu': 164, 'Fukuoka': 165, 'Karaka-Men': 166, 'Takoyaki': 167, 'Mitsuyado': 168, 'Sei-Men': 169, 'Seaweed': 170, 'by': 171, '25th': 172, 'Turning': 173, 'Point': 174, 'Bossam': 175, 'Budae': 176, 'Dak': 177, 'Mul': 178, 'Naengmyeon': 179, 'Samgyupsalamat': 180, 'Samgyupsal': 181, 'Woo': 182, 'Samgyup': 183, 'Moksal': 184, 'Haemul': 185, 'Pajeon': 186, 'Gyeran': 187, 'Jjim': 188, 'Seoul': 189, 'Train': 190, 'Barbecue': 191, 'Gui': 192, 'Kimbap': 193, 'Mandu': 194, 'Sundubu': 195, 'Sibyullee': 196, 'Bingsu': 197, 'Namu': 198, 'Grill': 199, 'Kimchi-jjigae': 200, 'Doenjang-jjigae': 201, 'Sundubu-jjigae': 202, 'Lapu-Lapu': 203, 'Pancit': 204, 'Canton': 205, 'Macau': 206, 'in': 207, 'Han': 208, 'Xiao': 209, 'Long': 210, 'Bao': 211, 'Dumplings': 212, 'Siopao': 213, 'Feet': 214, 'Radish': 215, 'Wontons': 216, 'Tarts': 217, 'Bean': 218, 'Bun': 219, 'Little': 220, 'Store': 221, 'Hill': 222, 'Mapo': 223, 'Tofu': 224, 'General': 225, \"Tso's\": 226, 'Rolls': 227, 'Wonton': 228, 'Szechuan': 229, 'North': 230, 'Muntinlupa': 231, 'Hofan': 232, 'Honey': 233, 'Walnut': 234, 'Peking': 235, 'Duck': 236, 'Drop': 237, 'Mango': 238, 'Pudding': 239, \"Chinatown's\": 240, 'Best': 241, 'Food': 242, 'Siomai': 243, 'Stir-fried': 244, 'Vegetables': 245, 'Braised': 246, 'Oyster': 247, \"Blake's\": 248, 'Buffalo': 249, 'Parmesan': 250, 'Loaded': 251, 'Sundae': 252, \"Elbert's\": 253, 'Room': 254, 'Filet': 255, 'Mignon': 256, 'New': 257, 'York': 258, 'Strip': 259, 'Prime': 260, 'Rib': 261, 'Tenderloin': 262, 'Surf': 263, 'Turf': 264, 'Tomahawk': 265, 'Tender': 266, \"Bob's\": 267, 'Chops': 268, 'Mashed': 269, 'Potatoes': 270, 'Corn': 271, 'Cob': 272, 'Iced': 273, 'Baron': 274, 'US': 275, 'Angus': 276, 'Salmon': 277, 'Tipsy': 278, 'Pig': 279, 'Gastropub': 280, 'Burgers': 281, 'Mac': 282, 'Potato': 283, 'Lava': 284, 'Aling': 285, \"Tonya's\": 286, 'Gising-Gising': 287, 'Ginataang': 288, 'Alimasag': 289, \"Blackbeard's\": 290, 'Island': 291, 'Liempo': 292, 'Bicol': 293, 'Express': 294, 'Boil': 295, 'Marina': 296, 'Mussels': 297, 'Escabeche': 298, 'Calamari': 299, 'Salted': 300, 'Dampa': 301, 'sa': 302, 'Paseo': 303, 'Malabon': 304, 'Kawali': 305, 'Tuna': 306, 'Tahong': 307, \"Elan's\": 308, 'Cafe': 309, 'Greenhills': 310, 'Elan': 311, 'Risotto': 312, 'Panini': 313, 'Bruschetta': 314, \"Henrico's\": 315, 'Four': 316, 'Stagioni': 317, 'Fettuccine': 318, 'Parmigiana': 319, 'Old': 320, 'Bolognese': 321, 'Aglio': 322, 'Olio': 323, 'Marinara': 324, 'Penne': 325, 'Arrabiata': 326, 'Diverso': 327, 'Pizzeria': 328, 'Hawaiian': 329, 'Vegetarian': 330, 'Capricciosa': 331, 'Diavola': 332, 'Tomato': 333, 'Arugula': 334, 'Caprese': 335, 'Bread': 336}\n"
     ]
    }
   ],
   "source": [
    "# Assign indices to the vocabulary terms\n",
    "term_indices = {term: index for index, term in enumerate(unique_keywords_set)}\n",
    "\n",
    "print(term_indices)"
   ]
  },
  {
   "cell_type": "code",
   "execution_count": 37,
   "metadata": {},
   "outputs": [
    {
     "name": "stdout",
     "output_type": "stream",
     "text": [
      "['Japanese', 'Ramen', 'Happon', 'Ramen', 'House', 'Quezon', 'City', 'Tonkotsu', 'Ramen', 'Miso', 'Ramen', 'Shoyu', 'Ramen', 'Spicy', 'Ramen', 'Tsukemen', 'Chashu', 'Rice', 'Bowl', 'Gyoza', 'Karaage', 'Tamago', 'Kakuni']\n",
      "['Japanese', 'Ramen', 'Ramen', 'Nagi', 'Taguig', 'City', 'Original', 'King', 'Ramen', 'Black', 'King', 'Ramen', 'Red', 'King', 'Ramen', 'Green', 'King', 'Ramen', 'Limited', 'King', 'Ramen', 'Gyoza', 'Karaage', 'Tamago', 'Chashu', 'Rice', 'Bowl', 'Matcha', 'Milk', 'Tea']\n",
      "['Japanese', 'Ramen', 'Hokkaido', 'Ramen', 'Santouka', 'Tagaytay', 'City', 'Shio', 'Ramen', 'Shoyu', 'Ramen', 'Miso', 'Ramen', 'Spicy', 'Ramen', 'Tonkotsu', 'Ramen', 'Katsu', 'Curry', 'Rice', 'Gyoza', 'Chashu', 'Don', 'Soft-Shell', 'Crab', 'Roll', 'Matcha', 'Ice', 'Cream']\n",
      "['Japanese', 'Ramen', 'Ikkoryu', 'Fukuoka', 'Ramen', 'Makati', 'City', 'Tonkotsu', 'Ramen', 'Miso', 'Ramen', 'Shoyu', 'Ramen', 'Karaka-Men', 'Black', 'Garlic', 'Ramen', 'Gyoza', 'Chashu', 'Don', 'Karaage', 'Takoyaki', 'Matcha', 'Ice', 'Cream']\n",
      "['Japanese', 'Ramen', 'Mitsuyado', 'Sei-Men', 'Taguig', 'City', 'Tonkotsu', 'Ramen', 'Shoyu', 'Ramen', 'Miso', 'Ramen', 'Tsukemen', 'Chashu', 'Rice', 'Bowl', 'Gyoza', 'Karaage', 'Tamago', 'Kakuni', 'Seaweed', 'Salad']\n",
      "['Korean', 'Korean', 'BBQ', 'Samgyeopsal', 'House', 'by', '25th', 'Turning', 'Point', 'Manila', 'Samgyeopsal', 'Galbi', 'Yangnyeom', 'Chicken', 'Kimchi', 'Jjigae', 'Bossam', 'Jeyuk', 'Bokkeum', 'Bibim', 'Guksu', 'Budae', 'Jjigae', 'Dak', 'Galbi', 'Mul', 'Naengmyeon']\n",
      "['Korean', 'Korean', 'BBQ', 'Samgyupsalamat', 'Manila', 'Samgyupsal', 'Woo', 'Samgyup', 'Yangnyeom', 'Samgyeopsal', 'Moksal', 'Galbi', 'Dakgalbi', 'Kimchi', 'Jjigae', 'Haemul', 'Pajeon', 'Gyeran', 'Jjim', 'Bibim', 'Guksu']\n",
      "['Korean', 'Korean', 'BBQ', 'Seoul', 'Train', 'Korean', 'Barbecue', 'Quezon', 'City', 'Samgyeopsal', 'Bulgogi', 'Galbi', 'Gui', 'Japchae', 'Kimchi', 'Fried', 'Rice', 'Bibimbap', 'Kimbap', 'Tteokbokki', 'Mandu', 'Sundubu', 'Jjigae']\n",
      "['Korean', 'Korean', 'BBQ', 'Sibyullee', 'Pasig', 'City', 'Korean', 'BBQ', 'Samgyeopsal', 'Galbi', 'Bulgogi', 'Japchae', 'Kimchi', 'Fried', 'Rice', 'Bibimbap', 'Tteokbokki', 'Korean', 'Fried', 'Chicken', 'Bingsu']\n",
      "['Korean', 'Korean', 'BBQ', 'Namu', 'Korean', 'Restaurant', 'and', 'Grill', 'ParaÃ±aque', 'City', 'Galbi', 'Samgyeopsal', 'Bulgogi', 'Dakgalbi', 'Jeyuk', 'Bokkeum', 'Kimchi-jjigae', 'Doenjang-jjigae', 'Bibimbap', 'Sundubu-jjigae', 'Japchae']\n",
      "['Chinese', 'Asian', 'Century', 'Seafood', 'Restaurant', '-', 'Century', 'Park', 'Hotel', 'Manila', 'Sweet', 'and', 'Sour', 'Fish', 'Yang', 'Chow', 'Fried', 'Rice', 'Steamed', 'Lapu-Lapu', 'Salt', 'and', 'Pepper', 'Squid', 'Sizzling', 'Sisig', 'Beef', 'with', 'Broccoli', 'Pancit', 'Canton', 'Fried', 'Chicken', 'Lechon', 'Macau', 'Shrimp', 'in', 'Garlic', 'Sauce']\n",
      "['Chinese', 'Asian', 'Han', 'Pao', 'Tea', 'House', 'Mandaluyong', 'City', 'Xiao', 'Long', 'Bao', 'Pork', 'Dumplings', 'Steamed', 'Siopao', 'Chicken', 'Feet', 'Radish', 'Cake', 'Spicy', 'Wontons', 'Beef', 'Noodles', 'Egg', 'Tarts', 'Milk', 'Tea', 'Red', 'Bean', 'Bun']\n",
      "['Chinese', 'Asian', 'Little', 'Store', 'on', 'the', 'Hill', 'San', 'Juan', 'City', 'Sweet', 'and', 'Sour', 'Pork', 'Kung', 'Pao', 'Chicken', 'Fried', 'Rice', 'Beef', 'with', 'Broccoli', 'Mapo', 'Tofu', 'Dim', 'Sum', 'Platter', 'General', \"Tso's\", 'Chicken', 'Egg', 'Rolls', 'Wonton', 'Soup', 'Szechuan', 'Beef']\n",
      "['Chinese', 'Asian', 'North', 'Park', 'Noodles', 'Muntinlupa', 'City', 'Sweet', 'and', 'Sour', 'Pork', 'Yang', 'Chow', 'Fried', 'Rice', 'Beef', 'Hofan', 'Salt', 'and', 'Pepper', 'Squid', 'Lemon', 'Chicken', 'Honey', 'Walnut', 'Shrimp', 'Peking', 'Duck', 'Dim', 'Sum', 'Platter', 'Egg', 'Drop', 'Soup', 'Mango', 'Pudding']\n",
      "['Chinese', 'Asian', \"Chinatown's\", 'Best', 'Food', 'Quezon', 'City', 'Pork', 'Siomai', 'Beef', 'Noodles', 'Yang', 'Chow', 'Fried', 'Rice', 'Lemon', 'Chicken', 'Salt', 'and', 'Pepper', 'Squid', 'Stir-fried', 'Vegetables', 'Sweet', 'and', 'Sour', 'Pork', 'Steamed', 'Fish', 'Kung', 'Pao', 'Chicken', 'Braised', 'Beef', 'with', 'Oyster', 'Sauce']\n",
      "['American', 'Steak', \"Blake's\", 'Wings', '&', 'Steaks', 'Quezon', 'City', 'Buffalo', 'Wings', 'Ribeye', 'Steak', 'T-Bone', 'Steak', 'Garlic', 'Parmesan', 'Wings', 'BBQ', 'Ribs', 'Porterhouse', 'Steak', 'Chicken', 'Caesar', 'Salad', 'Loaded', 'Fries', 'Onion', 'Rings', 'Chocolate', 'Sundae']\n",
      "['American', 'Steak', \"Elbert's\", 'Steak', 'Room', 'Makati', 'City', 'American', 'Steak', 'Ribeye', 'Steak', 'Filet', 'Mignon', 'T-Bone', 'Steak', 'Porterhouse', 'Steak', 'New', 'York', 'Strip', 'Steak', 'Prime', 'Rib', 'Beef', 'Tenderloin', 'Surf', 'and', 'Turf', 'Tomahawk', 'Steak']\n",
      "['American', 'Steak', 'Tender', \"Bob's\", 'Mandaluyong', 'City', 'Steak', 'Baby', 'Back', 'Ribs', 'Grilled', 'Chicken', 'Pork', 'Chops', 'Caesar', 'Salad', 'Mashed', 'Potatoes', 'Corn', 'on', 'the', 'Cob', 'Onion', 'Rings', 'Iced', 'Tea', 'Chocolate', 'Cake']\n",
      "['American', 'Steak', 'Red', 'Baron', 'Ribs', '&', 'Steaks', 'Quezon', 'City', 'US', 'Angus', 'Ribeye', 'Steak', 'Baby', 'Back', 'Ribs', 'T-Bone', 'Steak', 'Ribeye', 'Salpicao', 'Porterhouse', 'Steak', 'BBQ', 'Pork', 'Ribs', 'Grilled', 'Salmon', 'Beef', 'Salpicao', 'Grilled', 'Chicken', 'Fish', 'and', 'Chips']\n",
      "['American', 'Steak', 'Tipsy', 'Pig', 'Gastropub', 'Pasig', 'City', 'Ribeye', 'Steak', 'Pork', 'Belly', 'Chicken', 'Wings', 'Baby', 'Back', 'Ribs', 'Fish', 'and', 'Chips', 'Burgers', 'Truffle', 'Mac', 'and', 'Cheese', 'Sweet', 'Potato', 'Fries', 'Cheesecake', 'Chocolate', 'Lava', 'Cake']\n",
      "['Seafood', 'Filipino', 'Aling', \"Tonya's\", 'Pasay', 'City', 'Butter', 'Garlic', 'Shrimp', 'Chili', 'Crab', 'Crispy', 'Pata', 'Sinigang', 'na', 'Hipon', 'Grilled', 'Tilapia', 'Adobong', 'Pusit', 'Kare-Kare', 'Gising-Gising', 'Ginataang', 'Alimasag', 'Halo-Halo']\n",
      "['Seafood', 'Filipino', \"Blackbeard's\", 'Seafood', 'Island', 'Manila', 'Sinigang', 'na', 'Hipon', 'Grilled', 'Liempo', 'Crispy', 'Pata', 'Kare-Kare', 'Garlic', 'Butter', 'Shrimp', 'Bicol', 'Express', 'Adobong', 'Pusit', 'Crispy', 'Tilapia', 'Seafood', 'Boil', 'Sizzling', 'Sisig']\n",
      "['Seafood', 'Filipino', 'Marina', 'Pasay', 'City', 'Buttered', 'Garlic', 'Shrimp', 'Grilled', 'Squid', 'Steamed', 'Fish', 'Sinigang', 'na', 'Hipon', 'Baked', 'Mussels', 'Adobong', 'Pusit', 'Fish', 'Escabeche', 'Crispy', 'Calamari', 'Kare-Kare', 'Halo-Halo']\n",
      "['Seafood', 'Filipino', 'The', 'Red', 'Crab', 'Pasay', 'City', 'Chili', 'Crab', 'Garlic', 'Butter', 'Crab', 'Salted', 'Egg', 'Crab', 'Black', 'Pepper', 'Crab', 'Buttered', 'Shrimp', 'Grilled', 'Squid', 'Steamed', 'Fish', 'Sinigang', 'na', 'Hipon', 'Adobong', 'Pusit', 'Kare-Kare']\n",
      "['Seafood', 'Filipino', 'Dampa', 'sa', 'Paseo', 'Malabon', 'City', 'Garlic', 'Butter', 'Shrimp', 'Grilled', 'Squid', 'Crispy', 'Tilapia', 'Sinigang', 'na', 'Hipon', 'Lechon', 'Kawali', 'Buttered', 'Crab', 'Seafood', 'Kare-Kare', 'Grilled', 'Tuna', 'Belly', 'Baked', 'Tahong', 'Steamed', 'Shrimp']\n",
      "['Italian', \"Elan's\", 'Cafe', '-', 'Greenhills', 'Elan', 'Hotel', 'San', 'Juan', 'City', 'Italian', 'Pasta', 'Pizza', 'Risotto', 'Panini', 'Lasagna', 'Bruschetta', 'Tiramisu', 'Gelato', 'Cannoli']\n",
      "['Italian', 'Don', \"Henrico's\", 'Pasay', 'City', 'Margherita', 'Pizza', 'Pepperoni', 'Pizza', 'Four', 'Cheese', 'Pizza', 'Quattro', 'Stagioni', 'Pizza', 'Spaghetti', 'Carbonara', 'Fettuccine', 'Alfredo', 'Chicken', 'Parmigiana', 'Tiramisu', 'Cheesecake', 'Gelato']\n",
      "['Italian', 'The', 'Old', 'Spaghetti', 'House', 'Quezon', 'City', 'Spaghetti', 'Bolognese', 'Carbonara', 'Shrimp', 'Aglio', 'Olio', 'Lasagna', 'Seafood', 'Marinara', 'Pesto', 'Pasta', 'Chicken', 'Alfredo', 'Penne', 'Arrabiata', 'Margherita', 'Pizza', 'Tiramisu']\n",
      "['Italian', 'Diverso', 'Pizzeria', 'ParaÃ±aque', 'City', 'Margherita', 'Pizza', 'Pepperoni', 'Pizza', 'Quattro', 'Formaggi', 'Pizza', 'Prosciutto', 'Pizza', 'Hawaiian', 'Pizza', 'Vegetarian', 'Pizza', 'BBQ', 'Chicken', 'Pizza', 'Truffle', 'Mushroom', 'Pizza', 'Capricciosa', 'Pizza', 'Diavola', 'Pizza']\n",
      "['Italian', 'Green', 'Tomato', 'Makati', 'City', 'Margherita', 'Pizza', 'Pepperoni', 'Pizza', 'Quattro', 'Formaggi', 'Pizza', 'Prosciutto', 'and', 'Arugula', 'Pizza', 'Mushroom', 'and', 'Truffle', 'Pizza', 'Caprese', 'Salad', 'Pesto', 'Pasta', 'Garlic', 'Bread', 'Tiramisu', 'Cannoli']\n",
      "[[ 6.  1.  0. ...  0.  0.  0.]\n",
      " [ 7.  1.  0. ...  0.  0.  0.]\n",
      " [ 7.  1.  0. ...  0.  0.  0.]\n",
      " ...\n",
      " [ 0.  1.  1. ...  0.  0.  0.]\n",
      " [ 0.  1. 10. ...  0.  0.  0.]\n",
      " [ 0.  1.  5. ...  1.  1.  1.]]\n"
     ]
    }
   ],
   "source": [
    "# Calculate the term frequency-inverse document frequency (TF-IDF) matrix\n",
    "TFIDF_matrix = np.zeros((len(keywords), len(unique_keywords_set)))\n",
    "\n",
    "\n",
    "for i, doc in enumerate(keywords):\n",
    "    tokens = doc.split()\n",
    "    print(tokens)\n",
    "    \n",
    "    for token in tokens:\n",
    "        if token in term_indices:\n",
    "            term_index = term_indices[token]\n",
    "            TFIDF_matrix[i, term_index] += 1\n",
    "   \n",
    "print(TFIDF_matrix)       \n",
    "             \n",
    "            \n"
   ]
  },
  {
   "cell_type": "code",
   "execution_count": 38,
   "metadata": {},
   "outputs": [
    {
     "name": "stdout",
     "output_type": "stream",
     "text": [
      "[ 5 26  5  5 14  5  9 10  7  9  8  7  8  7  4  6  7  6  6  5  5  6  6  5\n",
      "  4  5  5  5  5  1  5  5  5  4  5  4  5  5  5  5  4  4  4  4  4  4  3  4\n",
      "  4  4  3  4  4  4  2  4  4  4  4  4  4  3  3  3  3  3  3  3  3  3  3  3\n",
      "  3  3  3  3  3  3  3  3  3  3  3  3  3  3  3  3  3  2  2  2  2  2  2  2\n",
      "  2  2  2  2  2  2  2  2  2  2  2  1  2  2  2  2  2  2  2  2  2  2  2  2\n",
      "  2  2  2  2  2  2  2  2  2  2  2  2  2  1  2  2  2  2  2  2  2  2  2  2\n",
      "  2  2  2  2  2  2  2  2  1  1  1  1  1  1  1  1  1  1  1  1  1  1  1  1\n",
      "  1  1  1  1  1  1  1  1  1  1  1  1  1  1  1  1  1  1  1  1  1  1  1  1\n",
      "  1  1  1  1  1  1  1  1  1  1  1  1  1  1  1  1  1  1  1  1  1  1  1  1\n",
      "  1  1  1  1  1  1  1  1  1  1  1  1  1  1  1  1  1  1  1  1  1  1  1  1\n",
      "  1  1  1  1  1  1  1  1  1  1  1  1  1  1  1  1  1  1  1  1  1  1  1  1\n",
      "  1  1  1  1  1  1  1  1  1  1  1  1  1  1  1  1  1  1  1  1  1  1  1  1\n",
      "  1  1  1  1  1  1  1  1  1  1  1  1  1  1  1  1  1  1  1  1  1  1  1  1\n",
      "  1  1  1  1  1  1  1  1  1  1  1  1  1  1  1  1  1  1  1  1  1  1  1  1\n",
      "  1]\n"
     ]
    }
   ],
   "source": [
    "\n",
    "# Compute the document frequencies\n",
    "document_frequencies = np.sum(TFIDF_matrix > 0, axis=0)\n",
    "\n",
    "\n",
    "print(document_frequencies)\n"
   ]
  },
  {
   "cell_type": "code",
   "execution_count": 77,
   "metadata": {},
   "outputs": [
    {
     "name": "stdout",
     "output_type": "stream",
     "text": [
      "1.6094379124341003\n"
     ]
    }
   ],
   "source": [
    "\n",
    "# Calculate the inverse document frequencies (IDF)\n",
    "idf = np.log(len(30) / (1 + 5))\n",
    "\n",
    "print(idf)\n",
    "\n"
   ]
  },
  {
   "cell_type": "code",
   "execution_count": 40,
   "metadata": {},
   "outputs": [
    {
     "name": "stdout",
     "output_type": "stream",
     "text": [
      "[[ 9.65662747  0.10536052  0.         ...  0.          0.\n",
      "   0.        ]\n",
      " [11.26606539  0.10536052  0.         ...  0.          0.\n",
      "   0.        ]\n",
      " [11.26606539  0.10536052  0.         ...  0.          0.\n",
      "   0.        ]\n",
      " ...\n",
      " [ 0.          0.10536052  1.60943791 ...  0.          0.\n",
      "   0.        ]\n",
      " [ 0.          0.10536052 16.09437912 ...  0.          0.\n",
      "   0.        ]\n",
      " [ 0.          0.10536052  8.04718956 ...  2.7080502   2.7080502\n",
      "   2.7080502 ]]\n"
     ]
    }
   ],
   "source": [
    "# Multiply the TF and IDF to get the TF-IDF matrix\n",
    "TFIDF_matrix *= idf\n",
    "\n",
    "\n",
    "print(TFIDF_matrix)\n",
    "\n"
   ]
  },
  {
   "cell_type": "code",
   "execution_count": 41,
   "metadata": {},
   "outputs": [
    {
     "name": "stdout",
     "output_type": "stream",
     "text": [
      "[[0.7876056  0.00859332 0.         ... 0.         0.         0.        ]\n",
      " [0.57516057 0.00537892 0.         ... 0.         0.         0.        ]\n",
      " [0.74285265 0.00694718 0.         ... 0.         0.         0.        ]\n",
      " ...\n",
      " [0.         0.00947199 0.14468972 ... 0.         0.         0.        ]\n",
      " [0.         0.00567934 0.86755011 ... 0.         0.         0.        ]\n",
      " [0.         0.00821553 0.62748277 ... 0.21116128 0.21116128 0.21116128]]\n"
     ]
    }
   ],
   "source": [
    "\n",
    "# Normalize the TF-IDF matrix\n",
    "document_norms = np.linalg.norm(TFIDF_matrix, axis=1)\n",
    "normalized_TFIDF_matrix = TFIDF_matrix / document_norms[:, np.newaxis]\n",
    "\n",
    "\n",
    "print(normalized_TFIDF_matrix)"
   ]
  },
  {
   "cell_type": "code",
   "execution_count": 42,
   "metadata": {},
   "outputs": [],
   "source": [
    "# Convert the TF-IDF matrix to a sparse matrix in CSR format\n",
    "tfidf_sparse = csr_matrix(TFIDF_matrix)"
   ]
  },
  {
   "cell_type": "code",
   "execution_count": 43,
   "metadata": {},
   "outputs": [
    {
     "name": "stdout",
     "output_type": "stream",
     "text": [
      "  (0, 0)\t9.656627474604601\n",
      "  (0, 1)\t0.10536051565782635\n",
      "  (0, 7)\t1.0033021088637848\n",
      "  (0, 18)\t1.455287232606842\n",
      "  (0, 26)\t1.6094379124341003\n",
      "  (0, 27)\t1.6094379124341003\n",
      "  (0, 28)\t1.6094379124341003\n",
      "  (0, 40)\t1.791759469228055\n",
      "  (0, 41)\t1.791759469228055\n",
      "  (0, 42)\t1.791759469228055\n",
      "  (0, 43)\t1.791759469228055\n",
      "  (0, 44)\t1.791759469228055\n",
      "  (0, 61)\t2.0149030205422647\n",
      "  (0, 62)\t2.0149030205422647\n",
      "  (0, 63)\t2.0149030205422647\n",
      "  (0, 90)\t2.302585092994046\n",
      "  (0, 91)\t2.302585092994046\n",
      "  (0, 152)\t2.70805020110221\n",
      "  (1, 0)\t11.266065387038703\n",
      "  (1, 1)\t0.10536051565782635\n",
      "  (1, 7)\t1.0033021088637848\n",
      "  (1, 26)\t1.6094379124341003\n",
      "  (1, 27)\t1.6094379124341003\n",
      "  (1, 28)\t1.6094379124341003\n",
      "  (1, 29)\t13.54025100551105\n",
      "  :\t:\n",
      "  (28, 331)\t2.70805020110221\n",
      "  (28, 332)\t2.70805020110221\n",
      "  (29, 1)\t0.10536051565782635\n",
      "  (29, 2)\t8.047189562170502\n",
      "  (29, 6)\t2.1972245773362196\n",
      "  (29, 9)\t1.0986122886681098\n",
      "  (29, 25)\t1.6094379124341003\n",
      "  (29, 47)\t1.791759469228055\n",
      "  (29, 59)\t1.791759469228055\n",
      "  (29, 60)\t1.791759469228055\n",
      "  (29, 67)\t2.0149030205422647\n",
      "  (29, 83)\t2.0149030205422647\n",
      "  (29, 86)\t2.0149030205422647\n",
      "  (29, 87)\t2.0149030205422647\n",
      "  (29, 88)\t2.0149030205422647\n",
      "  (29, 93)\t2.302585092994046\n",
      "  (29, 145)\t2.302585092994046\n",
      "  (29, 148)\t2.302585092994046\n",
      "  (29, 149)\t2.302585092994046\n",
      "  (29, 150)\t2.302585092994046\n",
      "  (29, 151)\t2.302585092994046\n",
      "  (29, 333)\t2.70805020110221\n",
      "  (29, 334)\t2.70805020110221\n",
      "  (29, 335)\t2.70805020110221\n",
      "  (29, 336)\t2.70805020110221\n"
     ]
    }
   ],
   "source": [
    "print(tfidf_sparse)"
   ]
  },
  {
   "cell_type": "code",
   "execution_count": 44,
   "metadata": {},
   "outputs": [],
   "source": [
    "user_location = 'Makati City'\n",
    "selected_value = 'Ramen'"
   ]
  },
  {
   "cell_type": "code",
   "execution_count": 45,
   "metadata": {},
   "outputs": [
    {
     "name": "stdout",
     "output_type": "stream",
     "text": [
      "[[1. 1. 0. 0. 0. 0. 0. 0. 0. 0. 0. 0. 0. 0. 0. 0. 0. 0. 0. 0. 0. 0. 0. 0.\n",
      "  0. 0. 0. 0. 0. 0. 0. 0. 0. 0. 0. 0. 0. 0. 0. 0. 0. 0. 0. 0. 0. 0. 0. 0.\n",
      "  0. 0. 0. 0. 0. 0. 0. 0. 0. 0. 0. 0. 0. 0. 0. 0. 0. 0. 0. 1. 0. 0. 0. 0.\n",
      "  0. 0. 0. 0. 0. 0. 0. 0. 0. 0. 0. 0. 0. 0. 0. 0. 0. 0. 0. 0. 0. 0. 0. 0.\n",
      "  0. 0. 0. 0. 0. 0. 0. 0. 0. 0. 0. 0. 0. 0. 0. 0. 0. 0. 0. 0. 0. 0. 0. 0.\n",
      "  0. 0. 0. 0. 0. 0. 0. 0. 0. 0. 0. 0. 0. 0. 0. 0. 0. 0. 0. 0. 0. 0. 0. 0.\n",
      "  0. 0. 0. 0. 0. 0. 0. 0. 0. 0. 0. 0. 0. 0. 0. 0. 0. 0. 0. 0. 0. 0. 0. 0.\n",
      "  0. 0. 0. 0. 0. 0. 0. 0. 0. 0. 0. 0. 0. 0. 0. 0. 0. 0. 0. 0. 0. 0. 0. 0.\n",
      "  0. 0. 0. 0. 0. 0. 0. 0. 0. 0. 0. 0. 0. 0. 0. 0. 0. 0. 0. 0. 0. 0. 0. 0.\n",
      "  0. 0. 0. 0. 0. 0. 0. 0. 0. 0. 0. 0. 0. 0. 0. 0. 0. 0. 0. 0. 0. 0. 0. 0.\n",
      "  0. 0. 0. 0. 0. 0. 0. 0. 0. 0. 0. 0. 0. 0. 0. 0. 0. 0. 0. 0. 0. 0. 0. 0.\n",
      "  0. 0. 0. 0. 0. 0. 0. 0. 0. 0. 0. 0. 0. 0. 0. 0. 0. 0. 0. 0. 0. 0. 0. 0.\n",
      "  0. 0. 0. 0. 0. 0. 0. 0. 0. 0. 0. 0. 0. 0. 0. 0. 0. 0. 0. 0. 0. 0. 0. 0.\n",
      "  0. 0. 0. 0. 0. 0. 0. 0. 0. 0. 0. 0. 0. 0. 0. 0. 0. 0. 0. 0. 0. 0. 0. 0.\n",
      "  0.]]\n"
     ]
    }
   ],
   "source": [
    "# Create a TF-IDF vector for the user's input\n",
    "user_input = np.zeros((1, len(unique_keywords_set)))\n",
    "tokens = (selected_value + ' ' + user_location).split()\n",
    "for token in tokens:\n",
    "    if token in term_indices:\n",
    "        term_index = term_indices[token]\n",
    "        user_input[0, term_index] += 1\n",
    "\n",
    "\n",
    "print(user_input)"
   ]
  },
  {
   "cell_type": "code",
   "execution_count": 46,
   "metadata": {},
   "outputs": [
    {
     "name": "stdout",
     "output_type": "stream",
     "text": [
      "[[1.60943791 0.10536052 0.         0.         0.         0.\n",
      "  0.         0.         0.         0.         0.         0.\n",
      "  0.         0.         0.         0.         0.         0.\n",
      "  0.         0.         0.         0.         0.         0.\n",
      "  0.         0.         0.         0.         0.         0.\n",
      "  0.         0.         0.         0.         0.         0.\n",
      "  0.         0.         0.         0.         0.         0.\n",
      "  0.         0.         0.         0.         0.         0.\n",
      "  0.         0.         0.         0.         0.         0.\n",
      "  0.         0.         0.         0.         0.         0.\n",
      "  0.         0.         0.         0.         0.         0.\n",
      "  0.         2.01490302 0.         0.         0.         0.\n",
      "  0.         0.         0.         0.         0.         0.\n",
      "  0.         0.         0.         0.         0.         0.\n",
      "  0.         0.         0.         0.         0.         0.\n",
      "  0.         0.         0.         0.         0.         0.\n",
      "  0.         0.         0.         0.         0.         0.\n",
      "  0.         0.         0.         0.         0.         0.\n",
      "  0.         0.         0.         0.         0.         0.\n",
      "  0.         0.         0.         0.         0.         0.\n",
      "  0.         0.         0.         0.         0.         0.\n",
      "  0.         0.         0.         0.         0.         0.\n",
      "  0.         0.         0.         0.         0.         0.\n",
      "  0.         0.         0.         0.         0.         0.\n",
      "  0.         0.         0.         0.         0.         0.\n",
      "  0.         0.         0.         0.         0.         0.\n",
      "  0.         0.         0.         0.         0.         0.\n",
      "  0.         0.         0.         0.         0.         0.\n",
      "  0.         0.         0.         0.         0.         0.\n",
      "  0.         0.         0.         0.         0.         0.\n",
      "  0.         0.         0.         0.         0.         0.\n",
      "  0.         0.         0.         0.         0.         0.\n",
      "  0.         0.         0.         0.         0.         0.\n",
      "  0.         0.         0.         0.         0.         0.\n",
      "  0.         0.         0.         0.         0.         0.\n",
      "  0.         0.         0.         0.         0.         0.\n",
      "  0.         0.         0.         0.         0.         0.\n",
      "  0.         0.         0.         0.         0.         0.\n",
      "  0.         0.         0.         0.         0.         0.\n",
      "  0.         0.         0.         0.         0.         0.\n",
      "  0.         0.         0.         0.         0.         0.\n",
      "  0.         0.         0.         0.         0.         0.\n",
      "  0.         0.         0.         0.         0.         0.\n",
      "  0.         0.         0.         0.         0.         0.\n",
      "  0.         0.         0.         0.         0.         0.\n",
      "  0.         0.         0.         0.         0.         0.\n",
      "  0.         0.         0.         0.         0.         0.\n",
      "  0.         0.         0.         0.         0.         0.\n",
      "  0.         0.         0.         0.         0.         0.\n",
      "  0.         0.         0.         0.         0.         0.\n",
      "  0.         0.         0.         0.         0.         0.\n",
      "  0.         0.         0.         0.         0.         0.\n",
      "  0.         0.         0.         0.         0.         0.\n",
      "  0.         0.         0.         0.         0.         0.\n",
      "  0.         0.         0.         0.         0.         0.\n",
      "  0.         0.         0.         0.         0.         0.\n",
      "  0.        ]]\n"
     ]
    }
   ],
   "source": [
    "\n",
    "# Multiply the user input with IDF to get the TF-IDF representation\n",
    "user_input *= idf\n",
    "\n",
    "\n",
    "print(user_input)"
   ]
  },
  {
   "cell_type": "code",
   "execution_count": 47,
   "metadata": {},
   "outputs": [
    {
     "name": "stdout",
     "output_type": "stream",
     "text": [
      "[[0.62358716 0.04082262 0.         0.         0.         0.\n",
      "  0.         0.         0.         0.         0.         0.\n",
      "  0.         0.         0.         0.         0.         0.\n",
      "  0.         0.         0.         0.         0.         0.\n",
      "  0.         0.         0.         0.         0.         0.\n",
      "  0.         0.         0.         0.         0.         0.\n",
      "  0.         0.         0.         0.         0.         0.\n",
      "  0.         0.         0.         0.         0.         0.\n",
      "  0.         0.         0.         0.         0.         0.\n",
      "  0.         0.         0.         0.         0.         0.\n",
      "  0.         0.         0.         0.         0.         0.\n",
      "  0.         0.78068724 0.         0.         0.         0.\n",
      "  0.         0.         0.         0.         0.         0.\n",
      "  0.         0.         0.         0.         0.         0.\n",
      "  0.         0.         0.         0.         0.         0.\n",
      "  0.         0.         0.         0.         0.         0.\n",
      "  0.         0.         0.         0.         0.         0.\n",
      "  0.         0.         0.         0.         0.         0.\n",
      "  0.         0.         0.         0.         0.         0.\n",
      "  0.         0.         0.         0.         0.         0.\n",
      "  0.         0.         0.         0.         0.         0.\n",
      "  0.         0.         0.         0.         0.         0.\n",
      "  0.         0.         0.         0.         0.         0.\n",
      "  0.         0.         0.         0.         0.         0.\n",
      "  0.         0.         0.         0.         0.         0.\n",
      "  0.         0.         0.         0.         0.         0.\n",
      "  0.         0.         0.         0.         0.         0.\n",
      "  0.         0.         0.         0.         0.         0.\n",
      "  0.         0.         0.         0.         0.         0.\n",
      "  0.         0.         0.         0.         0.         0.\n",
      "  0.         0.         0.         0.         0.         0.\n",
      "  0.         0.         0.         0.         0.         0.\n",
      "  0.         0.         0.         0.         0.         0.\n",
      "  0.         0.         0.         0.         0.         0.\n",
      "  0.         0.         0.         0.         0.         0.\n",
      "  0.         0.         0.         0.         0.         0.\n",
      "  0.         0.         0.         0.         0.         0.\n",
      "  0.         0.         0.         0.         0.         0.\n",
      "  0.         0.         0.         0.         0.         0.\n",
      "  0.         0.         0.         0.         0.         0.\n",
      "  0.         0.         0.         0.         0.         0.\n",
      "  0.         0.         0.         0.         0.         0.\n",
      "  0.         0.         0.         0.         0.         0.\n",
      "  0.         0.         0.         0.         0.         0.\n",
      "  0.         0.         0.         0.         0.         0.\n",
      "  0.         0.         0.         0.         0.         0.\n",
      "  0.         0.         0.         0.         0.         0.\n",
      "  0.         0.         0.         0.         0.         0.\n",
      "  0.         0.         0.         0.         0.         0.\n",
      "  0.         0.         0.         0.         0.         0.\n",
      "  0.         0.         0.         0.         0.         0.\n",
      "  0.         0.         0.         0.         0.         0.\n",
      "  0.         0.         0.         0.         0.         0.\n",
      "  0.         0.         0.         0.         0.         0.\n",
      "  0.         0.         0.         0.         0.         0.\n",
      "  0.         0.         0.         0.         0.         0.\n",
      "  0.        ]]\n"
     ]
    }
   ],
   "source": [
    " # Normalize the user input vector\n",
    " \n",
    "user_input_norm = np.linalg.norm(user_input)\n",
    "\n",
    "normalized_user_input = user_input / user_input_norm\n",
    "\n",
    "\n",
    "print(normalized_user_input)"
   ]
  },
  {
   "cell_type": "code",
   "execution_count": 48,
   "metadata": {},
   "outputs": [
    {
     "name": "stdout",
     "output_type": "stream",
     "text": [
      "  (0, 0)\t1.6094379124341003\n",
      "  (0, 1)\t0.10536051565782635\n",
      "  (0, 67)\t2.0149030205422647\n"
     ]
    }
   ],
   "source": [
    "# Convert the user input vector to a sparse matrix\n",
    "user_input_sparse = csr_matrix(user_input)\n",
    "\n",
    "print(user_input_sparse)"
   ]
  },
  {
   "cell_type": "code",
   "execution_count": 49,
   "metadata": {},
   "outputs": [],
   "source": [
    "def cosine_similarity(vector1, vector2):\n",
    "        dot_product = np.dot(vector1, vector2)\n",
    "        norm_vector1 = np.linalg.norm(vector1)\n",
    "        norm_vector2 = np.linalg.norm(vector2)\n",
    "        similarity = dot_product / (norm_vector1 * norm_vector2)\n",
    "        \n",
    "        return similarity"
   ]
  },
  {
   "cell_type": "code",
   "execution_count": 50,
   "metadata": {},
   "outputs": [],
   "source": [
    "\n",
    "# Calculate the cosine similarity between the user input and all restaurants\n",
    "similarities = np.array([cosine_similarity(normalized_user_input, Restuarant_df) for Restuarant_df in TFIDF_matrix])\n",
    "\n"
   ]
  },
  {
   "cell_type": "code",
   "execution_count": 51,
   "metadata": {},
   "outputs": [],
   "source": [
    "# Add the cosine similarity values to the DataFrame\n",
    "restaurants_df['similarity'] = similarities"
   ]
  },
  {
   "cell_type": "code",
   "execution_count": 52,
   "metadata": {},
   "outputs": [],
   "source": [
    "\n",
    "# Just for the dataviewer only\n",
    "df_similarity = restaurants_df['similarity']"
   ]
  },
  {
   "cell_type": "code",
   "execution_count": 53,
   "metadata": {},
   "outputs": [],
   "source": [
    "# Filter restaurants based on the selected location\n",
    "filtered_restaurants_df = restaurants_df[restaurants_df['location'] == user_location]"
   ]
  },
  {
   "cell_type": "code",
   "execution_count": 54,
   "metadata": {},
   "outputs": [],
   "source": [
    "# Sort the filtered restaurants by cosine similarity, in descending order\n",
    "recommended_restaurants = filtered_restaurants_df.sort_values('similarity', ascending=False)"
   ]
  },
  {
   "cell_type": "code",
   "execution_count": 55,
   "metadata": {},
   "outputs": [
    {
     "name": "stdout",
     "output_type": "stream",
     "text": [
      "      id resto_id  average_cost_for_two             Resto_name  \\\n",
      "3   4911  res4911                  1000  Ikkoryu Fukuoka Ramen   \n",
      "29  4714  res4714                   600           Green Tomato   \n",
      "16  2054  res2054                  4000    Elbert's Steak Room   \n",
      "\n",
      "          category                                         Dishes_key  \\\n",
      "3   Japanese Ramen  Tonkotsu Ramen, Miso Ramen, Shoyu Ramen, Karak...   \n",
      "29         Italian  Margherita Pizza, Pepperoni Pizza, Quattro For...   \n",
      "16  American Steak  American Steak, Ribeye Steak, Filet Mignon, T-...   \n",
      "\n",
      "   currency                     deeplink  \\\n",
      "3         P  zomato://restaurant/6313320   \n",
      "29        P  zomato://restaurant/6316944   \n",
      "16        P  zomato://restaurant/6302402   \n",
      "\n",
      "                                           events_url  \\\n",
      "3   https://www.zomato.com/manila/ikkoryu-fukuoka-...   \n",
      "29  https://www.zomato.com/manila/green-tomato-urd...   \n",
      "16  https://www.zomato.com/manila/elberts-steak-ro...   \n",
      "\n",
      "                                      large_image_url  ...  \\\n",
      "3   https://b.zmtcdn.com/data/res_imagery/6309385_...  ...   \n",
      "29             https://i.ibb.co/hBdfbyF/zoamato-1.jpg  ...   \n",
      "16  https://b.zmtcdn.com/data/res_imagery/6302402_...  ...   \n",
      "\n",
      "                                              address     location city_id  \\\n",
      "3   Lower Ground Floor, Power Plant Mall, Rockwell...  Makati City      63   \n",
      "29  Second Floor, Zuellig Building, Makati Avenue ...  Makati City      63   \n",
      "16  Third Floor, Sagittarius Building, 111 H. V. D...  Makati City      63   \n",
      "\n",
      "    country_id   latitude                                 locality  \\\n",
      "3          162  14.565130  Power Plant Mall, Rockwell, Makati City   \n",
      "29         162  14.558143  Zuellig Building, Urdaneta, Makati City   \n",
      "16         162  14.561004                          Salcedo Village   \n",
      "\n",
      "                                     locality_verbose   longitude  \\\n",
      "3   Power Plant Mall, Rockwell, Makati City, Makat...  121.036175   \n",
      "29  Zuellig Building, Urdaneta, Makati City, Makat...  121.026804   \n",
      "16                       Salcedo Village, Makati City  121.025383   \n",
      "\n",
      "                                             keywords  similarity  \n",
      "3   Japanese Ramen Ikkoryu Fukuoka Ramen Makati Ci...    0.580676  \n",
      "29  Italian Green Tomato Makati City Margherita Pi...    0.122991  \n",
      "16  American Steak Elbert's Steak Room Makati City...    0.092650  \n",
      "\n",
      "[3 rows x 25 columns]\n"
     ]
    }
   ],
   "source": [
    "print(recommended_restaurants)"
   ]
  },
  {
   "cell_type": "code",
   "execution_count": 56,
   "metadata": {},
   "outputs": [],
   "source": [
    "# Show the top 15 recommended restaurants or the closest value if the number of recommended restaurants is less than 15\n",
    "n = min(8, len(recommended_restaurants))\n",
    "results = recommended_restaurants[:n]"
   ]
  },
  {
   "cell_type": "code",
   "execution_count": 57,
   "metadata": {},
   "outputs": [
    {
     "name": "stdout",
     "output_type": "stream",
     "text": [
      "      id resto_id  average_cost_for_two             Resto_name  \\\n",
      "3   4911  res4911                  1000  Ikkoryu Fukuoka Ramen   \n",
      "29  4714  res4714                   600           Green Tomato   \n",
      "16  2054  res2054                  4000    Elbert's Steak Room   \n",
      "\n",
      "          category                                         Dishes_key  \\\n",
      "3   Japanese Ramen  Tonkotsu Ramen, Miso Ramen, Shoyu Ramen, Karak...   \n",
      "29         Italian  Margherita Pizza, Pepperoni Pizza, Quattro For...   \n",
      "16  American Steak  American Steak, Ribeye Steak, Filet Mignon, T-...   \n",
      "\n",
      "   currency                     deeplink  \\\n",
      "3         P  zomato://restaurant/6313320   \n",
      "29        P  zomato://restaurant/6316944   \n",
      "16        P  zomato://restaurant/6302402   \n",
      "\n",
      "                                           events_url  \\\n",
      "3   https://www.zomato.com/manila/ikkoryu-fukuoka-...   \n",
      "29  https://www.zomato.com/manila/green-tomato-urd...   \n",
      "16  https://www.zomato.com/manila/elberts-steak-ro...   \n",
      "\n",
      "                                      large_image_url  ...  \\\n",
      "3   https://b.zmtcdn.com/data/res_imagery/6309385_...  ...   \n",
      "29             https://i.ibb.co/hBdfbyF/zoamato-1.jpg  ...   \n",
      "16  https://b.zmtcdn.com/data/res_imagery/6302402_...  ...   \n",
      "\n",
      "                                              address     location city_id  \\\n",
      "3   Lower Ground Floor, Power Plant Mall, Rockwell...  Makati City      63   \n",
      "29  Second Floor, Zuellig Building, Makati Avenue ...  Makati City      63   \n",
      "16  Third Floor, Sagittarius Building, 111 H. V. D...  Makati City      63   \n",
      "\n",
      "    country_id   latitude                                 locality  \\\n",
      "3          162  14.565130  Power Plant Mall, Rockwell, Makati City   \n",
      "29         162  14.558143  Zuellig Building, Urdaneta, Makati City   \n",
      "16         162  14.561004                          Salcedo Village   \n",
      "\n",
      "                                     locality_verbose   longitude  \\\n",
      "3   Power Plant Mall, Rockwell, Makati City, Makat...  121.036175   \n",
      "29  Zuellig Building, Urdaneta, Makati City, Makat...  121.026804   \n",
      "16                       Salcedo Village, Makati City  121.025383   \n",
      "\n",
      "                                             keywords  similarity  \n",
      "3   Japanese Ramen Ikkoryu Fukuoka Ramen Makati Ci...    0.580676  \n",
      "29  Italian Green Tomato Makati City Margherita Pi...    0.122991  \n",
      "16  American Steak Elbert's Steak Room Makati City...    0.092650  \n",
      "\n",
      "[3 rows x 25 columns]\n"
     ]
    }
   ],
   "source": [
    "print(results)"
   ]
  },
  {
   "cell_type": "code",
   "execution_count": 58,
   "metadata": {},
   "outputs": [
    {
     "name": "stdout",
     "output_type": "stream",
     "text": [
      "               Resto_name     location        category\n",
      "3   Ikkoryu Fukuoka Ramen  Makati City  Japanese Ramen\n",
      "29           Green Tomato  Makati City         Italian\n",
      "16    Elbert's Steak Room  Makati City  American Steak\n"
     ]
    }
   ],
   "source": [
    "print(results[['Resto_name', 'location', 'category']])"
   ]
  }
 ],
 "metadata": {
  "kernelspec": {
   "display_name": "Python 3.11.1 64-bit",
   "language": "python",
   "name": "python3"
  },
  "language_info": {
   "codemirror_mode": {
    "name": "ipython",
    "version": 3
   },
   "file_extension": ".py",
   "mimetype": "text/x-python",
   "name": "python",
   "nbconvert_exporter": "python",
   "pygments_lexer": "ipython3",
   "version": "3.11.4"
  },
  "orig_nbformat": 4,
  "vscode": {
   "interpreter": {
    "hash": "ff4b1fca65a764b45acb559e482afe389d289dd599b9f8c5fd12ff5c2ea46a65"
   }
  }
 },
 "nbformat": 4,
 "nbformat_minor": 2
}
